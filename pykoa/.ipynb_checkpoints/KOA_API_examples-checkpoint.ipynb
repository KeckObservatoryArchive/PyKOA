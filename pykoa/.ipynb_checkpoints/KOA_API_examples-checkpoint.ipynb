{
 "cells": [
  {
   "cell_type": "markdown",
   "metadata": {},
   "source": [
    "### KOA archive access examples\n",
    "\n",
    "This notebook presents some examples of using the Keck On-line-Archive (KOA)'s python interface for accessing KOA archive, the code is in GitHub: https://github.com/Caltech-IPAC/KOA_TAP_Client/ .  This document is not meant to serve as a user interface, just an example to illustrate how to use KOA's client interface.  The Archive class in 'pykoa' package consists of three main types of fuctions: login method (for user login), request methods (for accessing KOA's metadata), and download method (for downloading the files and its associated calibration files in the metadata tables).\n",
    "\n",
    "##### <font color=\"#880000\">Note: plateform requirement</font> \n",
    "Running 'KOA' class in 'pykoa' requires the installation of python3.6 (or above), plus astropy package.\n",
    "\n",
    "##### <font color=\"#880000\">Note: Input parameter types</font> \n",
    "Without specifically mentioning in the examples, all the \"position input parameters\" in the examples are required, and all the \"keyword parameters\" are optional input parameters. \n",
    "\n",
    "#### Login\n",
    "\n",
    "Login is an optional step, only needed for users who have KOA accounts to access their proprietary data. \n",
    "\n",
    "The login class requires a cookie file input to save the returned cookie which will be the required input for the subsequent proprietary data access.\n",
    "\n",
    "If the keyword parameters 'userid' and 'password' are not provided in the login method input, the program will prompt for userid and password and upon entering the correct values, it will report the login status as shown in the following example:\n"
   ]
  },
  {
   "cell_type": "code",
   "execution_count": 1,
   "metadata": {},
   "outputs": [
    {
     "name": "stdout",
     "output_type": "stream",
     "text": [
      "An instance of Archive class is initialized\n"
     ]
    }
   ],
   "source": [
    "from pykoa import archive\n",
    "\n",
    "koa = archive.Archive()"
   ]
  },
  {
   "cell_type": "code",
   "execution_count": 2,
   "metadata": {},
   "outputs": [
    {
     "name": "stdout",
     "output_type": "stream",
     "text": [
      "Userid: koaadmin\n",
      "Password: ········\n",
      "Successfully login as koaadmin\n"
     ]
    }
   ],
   "source": [
    "arch.login (cookiepath='./koacookie.txt')"
   ]
  },
  {
   "cell_type": "markdown",
   "metadata": {},
   "source": [
    "#### Metadata Retrival\n",
    "\n",
    "KOA class contains methods that retrieve data via KOA's TAP interface; the nominal input to a TAP service is an Astronomical Data Query Language (ADQL) query.  However for KOA users' convenience, a few simple queries have been provided to search data by datatime, position, and object name. These short cut methods construct the queries and provide the default output columns for the users.\n",
    "\n",
    "The following examples request the archive with query_adql, query_datetime, query_position, query_object, and query_creiteria methods; as you can see, cookiepath, format, and maxrec are 'optional' input parameters.  If these parameters are left out, the following are the default:\n",
    "\n",
    "cookiepath:  no default value, only public data will be accessible,\n",
    "format    :  ipac ASCII table,\n",
    "maxrec    :  0, this means all the records are returned."
   ]
  },
  {
   "cell_type": "code",
   "execution_count": 3,
   "metadata": {},
   "outputs": [
    {
     "name": "stdout",
     "output_type": "stream",
     "text": [
      "submitting request...\n",
      "Result downloaded to file [./hires.meta.adql.tbl]\n"
     ]
    }
   ],
   "source": [
    "query = \"select koaid, instrume, targname, object, imagetyp, frameno, ra2000 as ra, dec2000 as dec, mjd, to_char(date_obs,'YYYY-MM-DD') as date_obs, ut, elaptime, waveblue, wavered, progid, proginst, progpi, progtitl, sig2nois, slitwidt, slitlen, spatscal, specres, filehand, lower(semid) as semid, propmin, amplist, ampmode, binning, xdispers, deckname, lampqtz2, iodin, iodout, collblue, collred, ccdgain, ccdspeed, echangl, fil1name, fil2name, mosmode, nvidinp, precol, postpix, roqual, window, xdangl, equinox, datlevel, outfile from koa.koa_hires_v6 where (contains(point('J2000',ra,dec), circle('J2000', 77.28659645, -8.75408078, 0.5))=1) order by utdatetime\"\n",
    "\n",
    "arch.query_adql (query, \\\n",
    "    './hires.meta.adql.tbl', \\\n",
    "    cookiepath='./koacookie.txt', \\\n",
    "    format='ipac')"
   ]
  },
  {
   "cell_type": "code",
   "execution_count": 6,
   "metadata": {},
   "outputs": [
    {
     "name": "stdout",
     "output_type": "stream",
     "text": [
      "submitting request...\n",
      "Result downloaded to file [hires.meta.datetime.tbl]\n"
     ]
    }
   ],
   "source": [
    " koa.query_datetime ('hires', \\\n",
    "                  '2019-01-01 00:00:00/2019-03-15 00:00:00', \\\n",
    "                  'hires.meta.datetime.tbl', \\\n",
    "                  cookiepath='./koacookie.txt', \\\n",
    "                  format='ipac', \\\n",
    "                  maxrec='20')\n"
   ]
  },
  {
   "cell_type": "code",
   "execution_count": 7,
   "metadata": {},
   "outputs": [
    {
     "name": "stdout",
     "output_type": "stream",
     "text": [
      "submitting request...\n",
      "Result downloaded to file [./hires.meta.pos.tbl]\n"
     ]
    }
   ],
   "source": [
    "koa.query_position ('hires', \\\n",
    "                  'circle 77.27 -8.748 0.5', \\\n",
    "                  './hires.meta.pos.tbl', \\\n",
    "                  format='ipac')"
   ]
  },
  {
   "cell_type": "code",
   "execution_count": 8,
   "metadata": {},
   "outputs": [
    {
     "name": "stdout",
     "output_type": "stream",
     "text": [
      "resolving object name\n",
      "object name resolved: ra= 77.286596, dec=-8.754081\n",
      "submitting request...\n",
      "Result downloaded to file [./hires.meta.object.tbl]\n"
     ]
    }
   ],
   "source": [
    "koa.query_object ('hires', \\\n",
    "                  'hr1679', \\\n",
    "                  './hires.meta.object.tbl', \\\n",
    "                  format='ipac')"
   ]
  },
  {
   "cell_type": "code",
   "execution_count": 9,
   "metadata": {},
   "outputs": [
    {
     "name": "stdout",
     "output_type": "stream",
     "text": [
      "submitting request...\n",
      "Result downloaded to file [./hires.meta.criteria.tbl]\n"
     ]
    }
   ],
   "source": [
    "param = dict()\n",
    "param['instrument'] = 'hires'\n",
    "param['datetime'] = '2008-01-01 00:00:00/2008-12-31 00:00:00'\n",
    "param['pos'] = 'circle 77.28 -8.748 0.5'\n",
    "\n",
    "koa.query_criteria (param, \\\n",
    "                  './hires.meta.criteria.tbl', \\\n",
    "                  format='ipac')"
   ]
  },
  {
   "cell_type": "markdown",
   "metadata": {},
   "source": [
    "\n",
    "#### Data Download\n",
    "\n",
    "'download' method allows users to download KOA's FITS file and their associated calibration files.  The metadata files must include 'instrume', 'koaid', and 'filehand' columns to enable the download functionality.  These columns are included automatically in the short cut retrival methods: query_datetime, query_position, and query_object, query_criteria, but if you use the query_adql method and constructed the select string yourself, make sure the above columns are in the select statement.\n",
    "\n",
    "In addtion to the metadata file path and its format (ipac/votable/..), a directory path is required for depositing the returned data.  If the data is proprietary, an optional cookiepath parameter is required; and if you don't wish to download all the files in the metadata table, optional start_row and end_row may be specified in the input parameters. Finally, calibfile = 1 specifies that you also want to download the associated calibration files.\n",
    "\n",
    "##### <font color=\"#880000\">Note: </font>\n",
    "If any of the files requested already exists in the directory, it will not be downloaded again."
   ]
  },
  {
   "cell_type": "code",
   "execution_count": 11,
   "metadata": {},
   "outputs": [
    {
     "name": "stdout",
     "output_type": "stream",
     "text": [
      "Start downloading 2 FITS data you requested;\n",
      "please check your outdir: ./dnload_dir for  progress.\n",
      "A total of new 2 FITS files downloaded.\n",
      "2 new calibration list downloaded.\n",
      "10 new calibration FITS files downloaded.\n"
     ]
    }
   ],
   "source": [
    "koa.download ('hires.meta.pos.tbl', \\\n",
    "               'ipac', \\\n",
    "               './dnload_dir', \\\n",
    "               cookiepath='koacookie.txt',\n",
    "               start_row=0, \\\n",
    "               end_row=1, \\\n",
    "               calibfile=1)                      "
   ]
  }
 ],
 "metadata": {
  "kernelspec": {
   "display_name": "Python 3",
   "language": "python",
   "name": "python3"
  },
  "language_info": {
   "codemirror_mode": {
    "name": "ipython",
    "version": 3
   },
   "file_extension": ".py",
   "mimetype": "text/x-python",
   "name": "python",
   "nbconvert_exporter": "python",
   "pygments_lexer": "ipython3",
   "version": "3.6.5"
  }
 },
 "nbformat": 4,
 "nbformat_minor": 2
}
